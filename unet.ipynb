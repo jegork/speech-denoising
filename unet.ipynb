{
 "cells": [
  {
   "cell_type": "code",
   "execution_count": 1,
   "id": "bef5f83d-877a-4900-a885-f59e2dbc0346",
   "metadata": {},
   "outputs": [],
   "source": [
    "import pickle\n",
    "\n",
    "with open('denoise_dataset.pkl', 'rb') as f:\n",
    "    originals, noisy = pickle.load(f)"
   ]
  },
  {
   "cell_type": "code",
   "execution_count": 2,
   "id": "75ae8ce4-9410-41da-a7c7-108c7782da97",
   "metadata": {},
   "outputs": [],
   "source": [
    "BATCH_SIZE = 32\n",
    "LEARNING_RATE = 1e-4\n",
    "MODEL_NAME = \"denoiser_unet\"\n",
    "TRAIN_DATA_SIZE = 0.8"
   ]
  },
  {
   "cell_type": "code",
   "execution_count": 4,
   "id": "7edba915-04c5-41ce-9cd8-23526bd35829",
   "metadata": {},
   "outputs": [
    {
     "name": "stdout",
     "output_type": "stream",
     "text": [
      "INFO:tensorflow:Mixed precision compatibility check (mixed_float16): OK\n",
      "Your GPU will likely run quickly with dtype policy mixed_float16 as it has compute capability of at least 7.0. Your GPU: Tesla V100-SXM2-16GB, compute capability 7.0\n"
     ]
    },
    {
     "name": "stderr",
     "output_type": "stream",
     "text": [
      "2022-05-08 14:05:31.623502: I tensorflow/stream_executor/cuda/cuda_gpu_executor.cc:936] successful NUMA node read from SysFS had negative value (-1), but there must be at least one NUMA node, so returning NUMA node zero\n",
      "2022-05-08 14:05:31.631541: I tensorflow/core/platform/cpu_feature_guard.cc:151] This TensorFlow binary is optimized with oneAPI Deep Neural Network Library (oneDNN) to use the following CPU instructions in performance-critical operations:  AVX2 FMA\n",
      "To enable them in other operations, rebuild TensorFlow with the appropriate compiler flags.\n",
      "2022-05-08 14:05:31.632472: I tensorflow/stream_executor/cuda/cuda_gpu_executor.cc:936] successful NUMA node read from SysFS had negative value (-1), but there must be at least one NUMA node, so returning NUMA node zero\n",
      "2022-05-08 14:05:31.634204: I tensorflow/stream_executor/cuda/cuda_gpu_executor.cc:936] successful NUMA node read from SysFS had negative value (-1), but there must be at least one NUMA node, so returning NUMA node zero\n",
      "2022-05-08 14:05:31.635751: I tensorflow/stream_executor/cuda/cuda_gpu_executor.cc:936] successful NUMA node read from SysFS had negative value (-1), but there must be at least one NUMA node, so returning NUMA node zero\n",
      "2022-05-08 14:05:32.394284: I tensorflow/stream_executor/cuda/cuda_gpu_executor.cc:936] successful NUMA node read from SysFS had negative value (-1), but there must be at least one NUMA node, so returning NUMA node zero\n",
      "2022-05-08 14:05:32.395224: I tensorflow/stream_executor/cuda/cuda_gpu_executor.cc:936] successful NUMA node read from SysFS had negative value (-1), but there must be at least one NUMA node, so returning NUMA node zero\n",
      "2022-05-08 14:05:32.396170: I tensorflow/stream_executor/cuda/cuda_gpu_executor.cc:936] successful NUMA node read from SysFS had negative value (-1), but there must be at least one NUMA node, so returning NUMA node zero\n",
      "2022-05-08 14:05:32.396981: I tensorflow/core/common_runtime/gpu/gpu_device.cc:1525] Created device /job:localhost/replica:0/task:0/device:GPU:0 with 14640 MB memory:  -> device: 0, name: Tesla V100-SXM2-16GB, pci bus id: 0000:03:00.0, compute capability: 7.0\n"
     ]
    }
   ],
   "source": [
    "import tensorflow as tf\n",
    "\n",
    "physical_devices = tf.config.list_physical_devices('GPU')\n",
    "try:\n",
    "    tf.config.experimental.set_memory_growth(physical_devices[0], True)\n",
    "except:\n",
    "  # Invalid device or cannot modify virtual devices once initialized.\n",
    "    pass\n",
    "\n",
    "tf.keras.mixed_precision.set_global_policy('mixed_float16')\n",
    "\n",
    "\n",
    "dataset = tf.data.Dataset.from_tensor_slices((noisy, originals)).shuffle(1028).prefetch(tf.data.AUTOTUNE).batch(BATCH_SIZE)\n",
    "\n",
    "train_size = int(TRAIN_DATA_SIZE * dataset.cardinality().numpy())\n",
    "\n",
    "train_dataset = dataset.take(train_size)\n",
    "test_dataset = dataset.skip(train_size)\n",
    "\n",
    "assert dataset.cardinality() == train_dataset.cardinality() + test_dataset.cardinality()"
   ]
  },
  {
   "cell_type": "code",
   "execution_count": 11,
   "id": "e4bc566a-4fcb-4602-bf8a-1a4096dd54c9",
   "metadata": {},
   "outputs": [],
   "source": [
    "from tensorflow.keras.layers import *\n",
    "from tensorflow.keras.models import Model, Sequential\n",
    "\n",
    "class EncoderLayer(Layer):\n",
    "    def __init__(self, n_layers, kernel_size, dropout_rate=0.2):\n",
    "        super(EncoderLayer, self).__init__()\n",
    "        self.conv = Conv1D(n_layers, kernel_size, activation='relu', padding='same')\n",
    "        self.conv2 = Conv1D(n_layers*2, kernel_size, activation='relu', padding='same')\n",
    "        self.conv3 = Conv1D(n_layers*2, kernel_size, activation='relu', padding='same')\n",
    "        self.conv4 = Conv1D(n_layers, kernel_size, activation='relu', padding='same')\n",
    "\n",
    "        self.pooling = MaxPool1D(2)\n",
    "\n",
    "        self.bn = BatchNormalization()\n",
    "        self.dropout = SpatialDropout1D(dropout_rate)\n",
    "\n",
    "    def call(self, x):\n",
    "        x = self.conv(x)\n",
    "        x = self.conv2(x)\n",
    "        x = self.conv3(x)\n",
    "        skip0 = self.conv4(x)\n",
    "\n",
    "        x = self.pooling(skip)\n",
    "\n",
    "        x = self.bn(x)\n",
    "        x = self.dropout(x)\n",
    "\n",
    "        return x, skip\n",
    "\n",
    "class DecoderLayer(Layer):\n",
    "    def __init__(self, n_layers, kernel_size, dropout_rate=0.2):\n",
    "        super(DecoderLayer, self).__init__()\n",
    "        self.upconv = Conv1DTranspose(n_layers, kernel_size=kernel_size, strides=2, activation='relu', padding='same')\n",
    "        self.conv = Conv1D(n_layers*2, kernel_size=kernel_size, activation='relu', padding='same')\n",
    "        self.conv2 = Conv1D(n_layers, kernel_size, activation='relu', padding='same')\n",
    "        self.bn = BatchNormalization()\n",
    "        self.dropout = SpatialDropout1D(dropout_rate)\n",
    "\n",
    "    def call(self, x):\n",
    "        x = self.upconv(x)\n",
    "        x = self.conv(x)\n",
    "        x = self.conv2(x)\n",
    "        x = self.bn(x)\n",
    "        x = self.dropout(x)\n",
    "\n",
    "        return x\n",
    "    \n",
    "class Autoencoder(Model):\n",
    "    PAD = 250\n",
    "    GAUSSIAN_STDDEV = 2/5500\n",
    "    SPATIAL_DROPOUT_PROB = 0.2\n",
    "    \n",
    "    def __init__(self):\n",
    "        super(Autoencoder, self).__init__()\n",
    "        self.reshape = Reshape([5500, 1])\n",
    "        self.noise = GaussianNoise(stddev=self.GAUSSIAN_STDDEV)\n",
    "        self.normalize = Normalization()\n",
    "        self.pad = ZeroPadding1D(self.PAD)\n",
    "\n",
    "        self.encoder1 = EncoderLayer(512, 3, dropout_rate=self.SPATIAL_DROPOUT_PROB)\n",
    "        self.encoder2 = EncoderLayer(256, 3, dropout_rate=self.SPATIAL_DROPOUT_PROB)\n",
    "        self.encoder3 = EncoderLayer(128, 3, dropout_rate=self.SPATIAL_DROPOUT_PROB)\n",
    "        self.encoder4 = EncoderLayer(64, 3, dropout_rate=self.SPATIAL_DROPOUT_PROB)\n",
    "\n",
    "        self.latent_proj = Sequential([\n",
    "            Conv1D(32, 1, activation='relu', padding='same'),\n",
    "            Conv1D(64, 1, activation='relu', padding='same'),\n",
    "            Conv1D(32, 1, activation='relu', padding='same')\n",
    "        ])\n",
    "\n",
    "        self.decoder1 = DecoderLayer(64, 4, dropout_rate=self.SPATIAL_DROPOUT_PROB)\n",
    "        self.decoder2 = DecoderLayer(128, 2, dropout_rate=self.SPATIAL_DROPOUT_PROB)\n",
    "        self.decoder3 = DecoderLayer(256, 2, dropout_rate=self.SPATIAL_DROPOUT_PROB)\n",
    "        self.decoder4 = DecoderLayer(512, 2, dropout_rate=self.SPATIAL_DROPOUT_PROB)\n",
    "\n",
    "\n",
    "        self.concat1 = Concatenate()\n",
    "        self.concat2 = Concatenate()\n",
    "        self.concat3 = Concatenate()\n",
    "        self.concat4 = Concatenate()\n",
    "\n",
    "        self.upsample = Conv1DTranspose(32, kernel_size=1, strides=2, activation='relu', padding='same')\n",
    "        \n",
    "        self.out = Sequential([\n",
    "            Conv1D(64, kernel_size=3, activation='relu', padding='same'),\n",
    "            Conv1D(64, kernel_size=3, activation='relu', padding='same'),\n",
    "            Conv1D(32, kernel_size=3, activation='relu', padding='same'),\n",
    "            Conv1D(1, kernel_size=1, activation='tanh', padding='same')\n",
    "        ])\n",
    "\n",
    "        self.crop = Cropping1D(self.PAD)\n",
    "        \n",
    "\n",
    "    def call(self, x):\n",
    "        \n",
    "        x = self.reshape(x) # [5500, 1]\n",
    "        x = self.noise(x)\n",
    "        x = self.normalize(x)\n",
    "\n",
    "        x = self.pad(x) # [6000, 1]\n",
    "\n",
    "        x, skip1 = self.encoder1(x) # [3000, 512], [6000, 512]\n",
    "        x, skip2 = self.encoder2(x) # [1500, 256], [3000, 256]\n",
    "        x, skip3 = self.encoder3(x) # [750, 128], [1500, 128]\n",
    "        x, skip4 = self.encoder4(x) # [375, 64], [750, 64]\n",
    "\n",
    "        latent = self.latent_proj(x) # [375, 32]\n",
    "\n",
    "        x = self.decoder1(latent) # [750, 64]\n",
    "        x = self.concat1([x, skip4]) # [750, 64+64]\n",
    "\n",
    "        x = self.decoder2(x) # [1500, 128]\n",
    "        x = self.concat2([x, skip3]) # [1500, 128+128]\n",
    "\n",
    "        x = self.decoder3(x) # [3000, 256]\n",
    "        x = self.concat3([x, skip2]) # [3000, 256+256]\n",
    "\n",
    "        x = self.decoder4(x) # [6000, 512]\n",
    "        x = self.concat4([x, skip1]) # [6000, 512+512]\n",
    "\n",
    "        x = self.crop(x) # [5500, 1024]\n",
    "        x = self.upsample(x) # [11000, 32]\n",
    "        out = self.out(x) # [11000, 1]\n",
    "\n",
    "        return out\n",
    "# Add data aug\n",
    "# ADD spatial dropout\n",
    "    \n",
    "model = Autoencoder()"
   ]
  },
  {
   "cell_type": "code",
   "execution_count": 12,
   "id": "909d766f-6ef4-484a-a68b-75a01ca61e8c",
   "metadata": {},
   "outputs": [
    {
     "name": "stdout",
     "output_type": "stream",
     "text": [
      "Epoch 1/100\n",
      "240/240 [==============================] - ETA: 0s - loss: 0.0139 - mean_absolute_error: 0.0731"
     ]
    },
    {
     "name": "stderr",
     "output_type": "stream",
     "text": [
      "WARNING:absl:Found untraced functions such as conv1d_81_layer_call_fn, conv1d_81_layer_call_and_return_conditional_losses, conv1d_82_layer_call_fn, conv1d_82_layer_call_and_return_conditional_losses, conv1d_83_layer_call_fn while saving (showing 5 of 40). These functions will not be directly callable after loading.\n"
     ]
    },
    {
     "name": "stdout",
     "output_type": "stream",
     "text": [
      "INFO:tensorflow:Assets written to: denoiser_unet.tf/assets\n"
     ]
    },
    {
     "name": "stderr",
     "output_type": "stream",
     "text": [
      "INFO:tensorflow:Assets written to: denoiser_unet.tf/assets\n"
     ]
    },
    {
     "name": "stdout",
     "output_type": "stream",
     "text": [
      "240/240 [==============================] - 87s 301ms/step - loss: 0.0139 - mean_absolute_error: 0.0731 - val_loss: 0.0278 - val_mean_absolute_error: 0.1061 - lr: 1.0000e-04\n",
      "Epoch 2/100\n",
      "240/240 [==============================] - ETA: 0s - loss: 0.0082 - mean_absolute_error: 0.0561"
     ]
    },
    {
     "name": "stderr",
     "output_type": "stream",
     "text": [
      "WARNING:absl:Found untraced functions such as conv1d_81_layer_call_fn, conv1d_81_layer_call_and_return_conditional_losses, conv1d_82_layer_call_fn, conv1d_82_layer_call_and_return_conditional_losses, conv1d_83_layer_call_fn while saving (showing 5 of 40). These functions will not be directly callable after loading.\n"
     ]
    },
    {
     "name": "stdout",
     "output_type": "stream",
     "text": [
      "INFO:tensorflow:Assets written to: denoiser_unet.tf/assets\n"
     ]
    },
    {
     "name": "stderr",
     "output_type": "stream",
     "text": [
      "INFO:tensorflow:Assets written to: denoiser_unet.tf/assets\n"
     ]
    },
    {
     "name": "stdout",
     "output_type": "stream",
     "text": [
      "240/240 [==============================] - 72s 299ms/step - loss: 0.0082 - mean_absolute_error: 0.0561 - val_loss: 0.0169 - val_mean_absolute_error: 0.0828 - lr: 1.0000e-04\n",
      "Epoch 3/100\n",
      "240/240 [==============================] - ETA: 0s - loss: 0.0075 - mean_absolute_error: 0.0531"
     ]
    },
    {
     "name": "stderr",
     "output_type": "stream",
     "text": [
      "WARNING:absl:Found untraced functions such as conv1d_81_layer_call_fn, conv1d_81_layer_call_and_return_conditional_losses, conv1d_82_layer_call_fn, conv1d_82_layer_call_and_return_conditional_losses, conv1d_83_layer_call_fn while saving (showing 5 of 40). These functions will not be directly callable after loading.\n"
     ]
    },
    {
     "name": "stdout",
     "output_type": "stream",
     "text": [
      "INFO:tensorflow:Assets written to: denoiser_unet.tf/assets\n"
     ]
    },
    {
     "name": "stderr",
     "output_type": "stream",
     "text": [
      "INFO:tensorflow:Assets written to: denoiser_unet.tf/assets\n"
     ]
    },
    {
     "name": "stdout",
     "output_type": "stream",
     "text": [
      "240/240 [==============================] - 72s 299ms/step - loss: 0.0075 - mean_absolute_error: 0.0531 - val_loss: 0.0078 - val_mean_absolute_error: 0.0539 - lr: 1.0000e-04\n",
      "Epoch 4/100\n",
      "240/240 [==============================] - ETA: 0s - loss: 0.0070 - mean_absolute_error: 0.0511"
     ]
    },
    {
     "name": "stderr",
     "output_type": "stream",
     "text": [
      "WARNING:absl:Found untraced functions such as conv1d_81_layer_call_fn, conv1d_81_layer_call_and_return_conditional_losses, conv1d_82_layer_call_fn, conv1d_82_layer_call_and_return_conditional_losses, conv1d_83_layer_call_fn while saving (showing 5 of 40). These functions will not be directly callable after loading.\n"
     ]
    },
    {
     "name": "stdout",
     "output_type": "stream",
     "text": [
      "INFO:tensorflow:Assets written to: denoiser_unet.tf/assets\n"
     ]
    },
    {
     "name": "stderr",
     "output_type": "stream",
     "text": [
      "INFO:tensorflow:Assets written to: denoiser_unet.tf/assets\n"
     ]
    },
    {
     "name": "stdout",
     "output_type": "stream",
     "text": [
      "240/240 [==============================] - 72s 300ms/step - loss: 0.0070 - mean_absolute_error: 0.0511 - val_loss: 0.0065 - val_mean_absolute_error: 0.0490 - lr: 1.0000e-04\n",
      "Epoch 5/100\n",
      "240/240 [==============================] - ETA: 0s - loss: 0.0068 - mean_absolute_error: 0.0500"
     ]
    },
    {
     "name": "stderr",
     "output_type": "stream",
     "text": [
      "WARNING:absl:Found untraced functions such as conv1d_81_layer_call_fn, conv1d_81_layer_call_and_return_conditional_losses, conv1d_82_layer_call_fn, conv1d_82_layer_call_and_return_conditional_losses, conv1d_83_layer_call_fn while saving (showing 5 of 40). These functions will not be directly callable after loading.\n"
     ]
    },
    {
     "name": "stdout",
     "output_type": "stream",
     "text": [
      "INFO:tensorflow:Assets written to: denoiser_unet.tf/assets\n"
     ]
    },
    {
     "name": "stderr",
     "output_type": "stream",
     "text": [
      "INFO:tensorflow:Assets written to: denoiser_unet.tf/assets\n"
     ]
    },
    {
     "name": "stdout",
     "output_type": "stream",
     "text": [
      "240/240 [==============================] - 72s 300ms/step - loss: 0.0068 - mean_absolute_error: 0.0500 - val_loss: 0.0065 - val_mean_absolute_error: 0.0488 - lr: 1.0000e-04\n",
      "Epoch 6/100\n",
      "240/240 [==============================] - ETA: 0s - loss: 0.0066 - mean_absolute_error: 0.0494"
     ]
    },
    {
     "name": "stderr",
     "output_type": "stream",
     "text": [
      "WARNING:absl:Found untraced functions such as conv1d_81_layer_call_fn, conv1d_81_layer_call_and_return_conditional_losses, conv1d_82_layer_call_fn, conv1d_82_layer_call_and_return_conditional_losses, conv1d_83_layer_call_fn while saving (showing 5 of 40). These functions will not be directly callable after loading.\n"
     ]
    },
    {
     "name": "stdout",
     "output_type": "stream",
     "text": [
      "INFO:tensorflow:Assets written to: denoiser_unet.tf/assets\n"
     ]
    },
    {
     "name": "stderr",
     "output_type": "stream",
     "text": [
      "INFO:tensorflow:Assets written to: denoiser_unet.tf/assets\n"
     ]
    },
    {
     "name": "stdout",
     "output_type": "stream",
     "text": [
      "240/240 [==============================] - 72s 299ms/step - loss: 0.0066 - mean_absolute_error: 0.0494 - val_loss: 0.0064 - val_mean_absolute_error: 0.0484 - lr: 1.0000e-04\n",
      "Epoch 7/100\n",
      "240/240 [==============================] - ETA: 0s - loss: 0.0065 - mean_absolute_error: 0.0491"
     ]
    },
    {
     "name": "stderr",
     "output_type": "stream",
     "text": [
      "WARNING:absl:Found untraced functions such as conv1d_81_layer_call_fn, conv1d_81_layer_call_and_return_conditional_losses, conv1d_82_layer_call_fn, conv1d_82_layer_call_and_return_conditional_losses, conv1d_83_layer_call_fn while saving (showing 5 of 40). These functions will not be directly callable after loading.\n"
     ]
    },
    {
     "name": "stdout",
     "output_type": "stream",
     "text": [
      "INFO:tensorflow:Assets written to: denoiser_unet.tf/assets\n"
     ]
    },
    {
     "name": "stderr",
     "output_type": "stream",
     "text": [
      "INFO:tensorflow:Assets written to: denoiser_unet.tf/assets\n"
     ]
    },
    {
     "name": "stdout",
     "output_type": "stream",
     "text": [
      "240/240 [==============================] - 72s 302ms/step - loss: 0.0065 - mean_absolute_error: 0.0491 - val_loss: 0.0063 - val_mean_absolute_error: 0.0481 - lr: 1.0000e-04\n",
      "Epoch 8/100\n",
      "240/240 [==============================] - ETA: 0s - loss: 0.0064 - mean_absolute_error: 0.0488"
     ]
    },
    {
     "name": "stderr",
     "output_type": "stream",
     "text": [
      "WARNING:absl:Found untraced functions such as conv1d_81_layer_call_fn, conv1d_81_layer_call_and_return_conditional_losses, conv1d_82_layer_call_fn, conv1d_82_layer_call_and_return_conditional_losses, conv1d_83_layer_call_fn while saving (showing 5 of 40). These functions will not be directly callable after loading.\n"
     ]
    },
    {
     "name": "stdout",
     "output_type": "stream",
     "text": [
      "INFO:tensorflow:Assets written to: denoiser_unet.tf/assets\n"
     ]
    },
    {
     "name": "stderr",
     "output_type": "stream",
     "text": [
      "INFO:tensorflow:Assets written to: denoiser_unet.tf/assets\n"
     ]
    },
    {
     "name": "stdout",
     "output_type": "stream",
     "text": [
      "240/240 [==============================] - 72s 299ms/step - loss: 0.0064 - mean_absolute_error: 0.0488 - val_loss: 0.0062 - val_mean_absolute_error: 0.0477 - lr: 1.0000e-04\n",
      "Epoch 9/100\n",
      "240/240 [==============================] - ETA: 0s - loss: 0.0062 - mean_absolute_error: 0.0483"
     ]
    },
    {
     "name": "stderr",
     "output_type": "stream",
     "text": [
      "WARNING:absl:Found untraced functions such as conv1d_81_layer_call_fn, conv1d_81_layer_call_and_return_conditional_losses, conv1d_82_layer_call_fn, conv1d_82_layer_call_and_return_conditional_losses, conv1d_83_layer_call_fn while saving (showing 5 of 40). These functions will not be directly callable after loading.\n"
     ]
    },
    {
     "name": "stdout",
     "output_type": "stream",
     "text": [
      "INFO:tensorflow:Assets written to: denoiser_unet.tf/assets\n"
     ]
    },
    {
     "name": "stderr",
     "output_type": "stream",
     "text": [
      "INFO:tensorflow:Assets written to: denoiser_unet.tf/assets\n"
     ]
    },
    {
     "name": "stdout",
     "output_type": "stream",
     "text": [
      "240/240 [==============================] - 72s 299ms/step - loss: 0.0062 - mean_absolute_error: 0.0483 - val_loss: 0.0061 - val_mean_absolute_error: 0.0472 - lr: 3.0000e-05\n",
      "Epoch 10/100\n",
      "240/240 [==============================] - ETA: 0s - loss: 0.0062 - mean_absolute_error: 0.0481"
     ]
    },
    {
     "name": "stderr",
     "output_type": "stream",
     "text": [
      "WARNING:absl:Found untraced functions such as conv1d_81_layer_call_fn, conv1d_81_layer_call_and_return_conditional_losses, conv1d_82_layer_call_fn, conv1d_82_layer_call_and_return_conditional_losses, conv1d_83_layer_call_fn while saving (showing 5 of 40). These functions will not be directly callable after loading.\n"
     ]
    },
    {
     "name": "stdout",
     "output_type": "stream",
     "text": [
      "INFO:tensorflow:Assets written to: denoiser_unet.tf/assets\n"
     ]
    },
    {
     "name": "stderr",
     "output_type": "stream",
     "text": [
      "INFO:tensorflow:Assets written to: denoiser_unet.tf/assets\n"
     ]
    },
    {
     "name": "stdout",
     "output_type": "stream",
     "text": [
      "240/240 [==============================] - 72s 302ms/step - loss: 0.0062 - mean_absolute_error: 0.0481 - val_loss: 0.0059 - val_mean_absolute_error: 0.0470 - lr: 3.0000e-05\n",
      "Epoch 11/100\n",
      "240/240 [==============================] - 62s 260ms/step - loss: 0.0062 - mean_absolute_error: 0.0479 - val_loss: 0.0061 - val_mean_absolute_error: 0.0472 - lr: 3.0000e-05\n",
      "Epoch 12/100\n",
      "240/240 [==============================] - 62s 260ms/step - loss: 0.0061 - mean_absolute_error: 0.0477 - val_loss: 0.0060 - val_mean_absolute_error: 0.0469 - lr: 3.0000e-05\n",
      "Epoch 13/100\n",
      "240/240 [==============================] - 62s 260ms/step - loss: 0.0061 - mean_absolute_error: 0.0476 - val_loss: 0.0060 - val_mean_absolute_error: 0.0470 - lr: 3.0000e-05\n",
      "Epoch 14/100\n",
      "240/240 [==============================] - ETA: 0s - loss: 0.0061 - mean_absolute_error: 0.0475"
     ]
    },
    {
     "name": "stderr",
     "output_type": "stream",
     "text": [
      "WARNING:absl:Found untraced functions such as conv1d_81_layer_call_fn, conv1d_81_layer_call_and_return_conditional_losses, conv1d_82_layer_call_fn, conv1d_82_layer_call_and_return_conditional_losses, conv1d_83_layer_call_fn while saving (showing 5 of 40). These functions will not be directly callable after loading.\n"
     ]
    },
    {
     "name": "stdout",
     "output_type": "stream",
     "text": [
      "INFO:tensorflow:Assets written to: denoiser_unet.tf/assets\n"
     ]
    },
    {
     "name": "stderr",
     "output_type": "stream",
     "text": [
      "INFO:tensorflow:Assets written to: denoiser_unet.tf/assets\n"
     ]
    },
    {
     "name": "stdout",
     "output_type": "stream",
     "text": [
      "240/240 [==============================] - 72s 299ms/step - loss: 0.0061 - mean_absolute_error: 0.0475 - val_loss: 0.0059 - val_mean_absolute_error: 0.0464 - lr: 9.0000e-06\n",
      "Epoch 15/100\n",
      "240/240 [==============================] - ETA: 0s - loss: 0.0060 - mean_absolute_error: 0.0473"
     ]
    },
    {
     "name": "stderr",
     "output_type": "stream",
     "text": [
      "WARNING:absl:Found untraced functions such as conv1d_81_layer_call_fn, conv1d_81_layer_call_and_return_conditional_losses, conv1d_82_layer_call_fn, conv1d_82_layer_call_and_return_conditional_losses, conv1d_83_layer_call_fn while saving (showing 5 of 40). These functions will not be directly callable after loading.\n"
     ]
    },
    {
     "name": "stdout",
     "output_type": "stream",
     "text": [
      "INFO:tensorflow:Assets written to: denoiser_unet.tf/assets\n"
     ]
    },
    {
     "name": "stderr",
     "output_type": "stream",
     "text": [
      "INFO:tensorflow:Assets written to: denoiser_unet.tf/assets\n"
     ]
    },
    {
     "name": "stdout",
     "output_type": "stream",
     "text": [
      "240/240 [==============================] - 72s 301ms/step - loss: 0.0060 - mean_absolute_error: 0.0473 - val_loss: 0.0059 - val_mean_absolute_error: 0.0464 - lr: 9.0000e-06\n",
      "Epoch 16/100\n",
      "240/240 [==============================] - 62s 260ms/step - loss: 0.0060 - mean_absolute_error: 0.0473 - val_loss: 0.0059 - val_mean_absolute_error: 0.0465 - lr: 9.0000e-06\n",
      "Epoch 17/100\n",
      "240/240 [==============================] - 62s 260ms/step - loss: 0.0060 - mean_absolute_error: 0.0472 - val_loss: 0.0059 - val_mean_absolute_error: 0.0466 - lr: 9.0000e-06\n",
      "Epoch 18/100\n",
      "240/240 [==============================] - 62s 260ms/step - loss: 0.0060 - mean_absolute_error: 0.0472 - val_loss: 0.0060 - val_mean_absolute_error: 0.0466 - lr: 9.0000e-06\n",
      "Epoch 19/100\n",
      "240/240 [==============================] - 62s 260ms/step - loss: 0.0060 - mean_absolute_error: 0.0472 - val_loss: 0.0059 - val_mean_absolute_error: 0.0466 - lr: 2.7000e-06\n",
      "Epoch 20/100\n",
      "240/240 [==============================] - ETA: 0s - loss: 0.0060 - mean_absolute_error: 0.0471"
     ]
    },
    {
     "name": "stderr",
     "output_type": "stream",
     "text": [
      "WARNING:absl:Found untraced functions such as conv1d_81_layer_call_fn, conv1d_81_layer_call_and_return_conditional_losses, conv1d_82_layer_call_fn, conv1d_82_layer_call_and_return_conditional_losses, conv1d_83_layer_call_fn while saving (showing 5 of 40). These functions will not be directly callable after loading.\n"
     ]
    },
    {
     "name": "stdout",
     "output_type": "stream",
     "text": [
      "INFO:tensorflow:Assets written to: denoiser_unet.tf/assets\n"
     ]
    },
    {
     "name": "stderr",
     "output_type": "stream",
     "text": [
      "INFO:tensorflow:Assets written to: denoiser_unet.tf/assets\n"
     ]
    },
    {
     "name": "stdout",
     "output_type": "stream",
     "text": [
      "240/240 [==============================] - 72s 299ms/step - loss: 0.0060 - mean_absolute_error: 0.0471 - val_loss: 0.0058 - val_mean_absolute_error: 0.0461 - lr: 2.7000e-06\n",
      "Epoch 21/100\n",
      "240/240 [==============================] - 62s 260ms/step - loss: 0.0060 - mean_absolute_error: 0.0471 - val_loss: 0.0059 - val_mean_absolute_error: 0.0465 - lr: 2.7000e-06\n",
      "Epoch 22/100\n",
      "240/240 [==============================] - 62s 260ms/step - loss: 0.0060 - mean_absolute_error: 0.0470 - val_loss: 0.0058 - val_mean_absolute_error: 0.0461 - lr: 2.7000e-06\n",
      "Epoch 23/100\n",
      "240/240 [==============================] - 62s 260ms/step - loss: 0.0060 - mean_absolute_error: 0.0471 - val_loss: 0.0058 - val_mean_absolute_error: 0.0461 - lr: 2.7000e-06\n",
      "Epoch 24/100\n",
      "240/240 [==============================] - 62s 260ms/step - loss: 0.0060 - mean_absolute_error: 0.0470 - val_loss: 0.0058 - val_mean_absolute_error: 0.0460 - lr: 1.0000e-06\n",
      "Epoch 25/100\n",
      "240/240 [==============================] - 62s 259ms/step - loss: 0.0060 - mean_absolute_error: 0.0471 - val_loss: 0.0058 - val_mean_absolute_error: 0.0461 - lr: 1.0000e-06\n",
      "Epoch 26/100\n",
      "238/240 [============================>.] - ETA: 0s - loss: 0.0060 - mean_absolute_error: 0.0470"
     ]
    },
    {
     "ename": "KeyboardInterrupt",
     "evalue": "",
     "output_type": "error",
     "traceback": [
      "\u001b[0;31m---------------------------------------------------------------------------\u001b[0m",
      "\u001b[0;31mKeyboardInterrupt\u001b[0m                         Traceback (most recent call last)",
      "\u001b[0;32m/tmp/ipykernel_2118/684795154.py\u001b[0m in \u001b[0;36m<module>\u001b[0;34m\u001b[0m\n\u001b[1;32m     20\u001b[0m      \u001b[0mvalidation_data\u001b[0m\u001b[0;34m=\u001b[0m\u001b[0mtest_dataset\u001b[0m\u001b[0;34m,\u001b[0m\u001b[0;34m\u001b[0m\u001b[0;34m\u001b[0m\u001b[0m\n\u001b[1;32m     21\u001b[0m      \u001b[0mepochs\u001b[0m\u001b[0;34m=\u001b[0m\u001b[0;36m100\u001b[0m\u001b[0;34m,\u001b[0m\u001b[0;34m\u001b[0m\u001b[0;34m\u001b[0m\u001b[0m\n\u001b[0;32m---> 22\u001b[0;31m      \u001b[0mcallbacks\u001b[0m\u001b[0;34m=\u001b[0m\u001b[0;34m[\u001b[0m\u001b[0mearly_stopping_callback\u001b[0m\u001b[0;34m,\u001b[0m \u001b[0mcheckpoint_callback\u001b[0m\u001b[0;34m,\u001b[0m \u001b[0mreduce_lr_callback\u001b[0m\u001b[0;34m]\u001b[0m\u001b[0;34m\u001b[0m\u001b[0;34m\u001b[0m\u001b[0m\n\u001b[0m\u001b[1;32m     23\u001b[0m )\n",
      "\u001b[0;32m~/miniconda3/lib/python3.7/site-packages/keras/utils/traceback_utils.py\u001b[0m in \u001b[0;36merror_handler\u001b[0;34m(*args, **kwargs)\u001b[0m\n\u001b[1;32m     62\u001b[0m     \u001b[0mfiltered_tb\u001b[0m \u001b[0;34m=\u001b[0m \u001b[0;32mNone\u001b[0m\u001b[0;34m\u001b[0m\u001b[0;34m\u001b[0m\u001b[0m\n\u001b[1;32m     63\u001b[0m     \u001b[0;32mtry\u001b[0m\u001b[0;34m:\u001b[0m\u001b[0;34m\u001b[0m\u001b[0;34m\u001b[0m\u001b[0m\n\u001b[0;32m---> 64\u001b[0;31m       \u001b[0;32mreturn\u001b[0m \u001b[0mfn\u001b[0m\u001b[0;34m(\u001b[0m\u001b[0;34m*\u001b[0m\u001b[0margs\u001b[0m\u001b[0;34m,\u001b[0m \u001b[0;34m**\u001b[0m\u001b[0mkwargs\u001b[0m\u001b[0;34m)\u001b[0m\u001b[0;34m\u001b[0m\u001b[0;34m\u001b[0m\u001b[0m\n\u001b[0m\u001b[1;32m     65\u001b[0m     \u001b[0;32mexcept\u001b[0m \u001b[0mException\u001b[0m \u001b[0;32mas\u001b[0m \u001b[0me\u001b[0m\u001b[0;34m:\u001b[0m  \u001b[0;31m# pylint: disable=broad-except\u001b[0m\u001b[0;34m\u001b[0m\u001b[0;34m\u001b[0m\u001b[0m\n\u001b[1;32m     66\u001b[0m       \u001b[0mfiltered_tb\u001b[0m \u001b[0;34m=\u001b[0m \u001b[0m_process_traceback_frames\u001b[0m\u001b[0;34m(\u001b[0m\u001b[0me\u001b[0m\u001b[0;34m.\u001b[0m\u001b[0m__traceback__\u001b[0m\u001b[0;34m)\u001b[0m\u001b[0;34m\u001b[0m\u001b[0;34m\u001b[0m\u001b[0m\n",
      "\u001b[0;32m~/miniconda3/lib/python3.7/site-packages/keras/engine/training.py\u001b[0m in \u001b[0;36mfit\u001b[0;34m(self, x, y, batch_size, epochs, verbose, callbacks, validation_split, validation_data, shuffle, class_weight, sample_weight, initial_epoch, steps_per_epoch, validation_steps, validation_batch_size, validation_freq, max_queue_size, workers, use_multiprocessing)\u001b[0m\n\u001b[1;32m   1382\u001b[0m                 _r=1):\n\u001b[1;32m   1383\u001b[0m               \u001b[0mcallbacks\u001b[0m\u001b[0;34m.\u001b[0m\u001b[0mon_train_batch_begin\u001b[0m\u001b[0;34m(\u001b[0m\u001b[0mstep\u001b[0m\u001b[0;34m)\u001b[0m\u001b[0;34m\u001b[0m\u001b[0;34m\u001b[0m\u001b[0m\n\u001b[0;32m-> 1384\u001b[0;31m               \u001b[0mtmp_logs\u001b[0m \u001b[0;34m=\u001b[0m \u001b[0mself\u001b[0m\u001b[0;34m.\u001b[0m\u001b[0mtrain_function\u001b[0m\u001b[0;34m(\u001b[0m\u001b[0miterator\u001b[0m\u001b[0;34m)\u001b[0m\u001b[0;34m\u001b[0m\u001b[0;34m\u001b[0m\u001b[0m\n\u001b[0m\u001b[1;32m   1385\u001b[0m               \u001b[0;32mif\u001b[0m \u001b[0mdata_handler\u001b[0m\u001b[0;34m.\u001b[0m\u001b[0mshould_sync\u001b[0m\u001b[0;34m:\u001b[0m\u001b[0;34m\u001b[0m\u001b[0;34m\u001b[0m\u001b[0m\n\u001b[1;32m   1386\u001b[0m                 \u001b[0mcontext\u001b[0m\u001b[0;34m.\u001b[0m\u001b[0masync_wait\u001b[0m\u001b[0;34m(\u001b[0m\u001b[0;34m)\u001b[0m\u001b[0;34m\u001b[0m\u001b[0;34m\u001b[0m\u001b[0m\n",
      "\u001b[0;32m~/miniconda3/lib/python3.7/site-packages/tensorflow/python/util/traceback_utils.py\u001b[0m in \u001b[0;36merror_handler\u001b[0;34m(*args, **kwargs)\u001b[0m\n\u001b[1;32m    148\u001b[0m     \u001b[0mfiltered_tb\u001b[0m \u001b[0;34m=\u001b[0m \u001b[0;32mNone\u001b[0m\u001b[0;34m\u001b[0m\u001b[0;34m\u001b[0m\u001b[0m\n\u001b[1;32m    149\u001b[0m     \u001b[0;32mtry\u001b[0m\u001b[0;34m:\u001b[0m\u001b[0;34m\u001b[0m\u001b[0;34m\u001b[0m\u001b[0m\n\u001b[0;32m--> 150\u001b[0;31m       \u001b[0;32mreturn\u001b[0m \u001b[0mfn\u001b[0m\u001b[0;34m(\u001b[0m\u001b[0;34m*\u001b[0m\u001b[0margs\u001b[0m\u001b[0;34m,\u001b[0m \u001b[0;34m**\u001b[0m\u001b[0mkwargs\u001b[0m\u001b[0;34m)\u001b[0m\u001b[0;34m\u001b[0m\u001b[0;34m\u001b[0m\u001b[0m\n\u001b[0m\u001b[1;32m    151\u001b[0m     \u001b[0;32mexcept\u001b[0m \u001b[0mException\u001b[0m \u001b[0;32mas\u001b[0m \u001b[0me\u001b[0m\u001b[0;34m:\u001b[0m\u001b[0;34m\u001b[0m\u001b[0;34m\u001b[0m\u001b[0m\n\u001b[1;32m    152\u001b[0m       \u001b[0mfiltered_tb\u001b[0m \u001b[0;34m=\u001b[0m \u001b[0m_process_traceback_frames\u001b[0m\u001b[0;34m(\u001b[0m\u001b[0me\u001b[0m\u001b[0;34m.\u001b[0m\u001b[0m__traceback__\u001b[0m\u001b[0;34m)\u001b[0m\u001b[0;34m\u001b[0m\u001b[0;34m\u001b[0m\u001b[0m\n",
      "\u001b[0;32m~/miniconda3/lib/python3.7/site-packages/tensorflow/python/eager/def_function.py\u001b[0m in \u001b[0;36m__call__\u001b[0;34m(self, *args, **kwds)\u001b[0m\n\u001b[1;32m    913\u001b[0m \u001b[0;34m\u001b[0m\u001b[0m\n\u001b[1;32m    914\u001b[0m       \u001b[0;32mwith\u001b[0m \u001b[0mOptionalXlaContext\u001b[0m\u001b[0;34m(\u001b[0m\u001b[0mself\u001b[0m\u001b[0;34m.\u001b[0m\u001b[0m_jit_compile\u001b[0m\u001b[0;34m)\u001b[0m\u001b[0;34m:\u001b[0m\u001b[0;34m\u001b[0m\u001b[0;34m\u001b[0m\u001b[0m\n\u001b[0;32m--> 915\u001b[0;31m         \u001b[0mresult\u001b[0m \u001b[0;34m=\u001b[0m \u001b[0mself\u001b[0m\u001b[0;34m.\u001b[0m\u001b[0m_call\u001b[0m\u001b[0;34m(\u001b[0m\u001b[0;34m*\u001b[0m\u001b[0margs\u001b[0m\u001b[0;34m,\u001b[0m \u001b[0;34m**\u001b[0m\u001b[0mkwds\u001b[0m\u001b[0;34m)\u001b[0m\u001b[0;34m\u001b[0m\u001b[0;34m\u001b[0m\u001b[0m\n\u001b[0m\u001b[1;32m    916\u001b[0m \u001b[0;34m\u001b[0m\u001b[0m\n\u001b[1;32m    917\u001b[0m       \u001b[0mnew_tracing_count\u001b[0m \u001b[0;34m=\u001b[0m \u001b[0mself\u001b[0m\u001b[0;34m.\u001b[0m\u001b[0mexperimental_get_tracing_count\u001b[0m\u001b[0;34m(\u001b[0m\u001b[0;34m)\u001b[0m\u001b[0;34m\u001b[0m\u001b[0;34m\u001b[0m\u001b[0m\n",
      "\u001b[0;32m~/miniconda3/lib/python3.7/site-packages/tensorflow/python/eager/def_function.py\u001b[0m in \u001b[0;36m_call\u001b[0;34m(self, *args, **kwds)\u001b[0m\n\u001b[1;32m    945\u001b[0m       \u001b[0;31m# In this case we have created variables on the first call, so we run the\u001b[0m\u001b[0;34m\u001b[0m\u001b[0;34m\u001b[0m\u001b[0;34m\u001b[0m\u001b[0m\n\u001b[1;32m    946\u001b[0m       \u001b[0;31m# defunned version which is guaranteed to never create variables.\u001b[0m\u001b[0;34m\u001b[0m\u001b[0;34m\u001b[0m\u001b[0;34m\u001b[0m\u001b[0m\n\u001b[0;32m--> 947\u001b[0;31m       \u001b[0;32mreturn\u001b[0m \u001b[0mself\u001b[0m\u001b[0;34m.\u001b[0m\u001b[0m_stateless_fn\u001b[0m\u001b[0;34m(\u001b[0m\u001b[0;34m*\u001b[0m\u001b[0margs\u001b[0m\u001b[0;34m,\u001b[0m \u001b[0;34m**\u001b[0m\u001b[0mkwds\u001b[0m\u001b[0;34m)\u001b[0m  \u001b[0;31m# pylint: disable=not-callable\u001b[0m\u001b[0;34m\u001b[0m\u001b[0;34m\u001b[0m\u001b[0m\n\u001b[0m\u001b[1;32m    948\u001b[0m     \u001b[0;32melif\u001b[0m \u001b[0mself\u001b[0m\u001b[0;34m.\u001b[0m\u001b[0m_stateful_fn\u001b[0m \u001b[0;32mis\u001b[0m \u001b[0;32mnot\u001b[0m \u001b[0;32mNone\u001b[0m\u001b[0;34m:\u001b[0m\u001b[0;34m\u001b[0m\u001b[0;34m\u001b[0m\u001b[0m\n\u001b[1;32m    949\u001b[0m       \u001b[0;31m# Release the lock early so that multiple threads can perform the call\u001b[0m\u001b[0;34m\u001b[0m\u001b[0;34m\u001b[0m\u001b[0;34m\u001b[0m\u001b[0m\n",
      "\u001b[0;32m~/miniconda3/lib/python3.7/site-packages/tensorflow/python/eager/function.py\u001b[0m in \u001b[0;36m__call__\u001b[0;34m(self, *args, **kwargs)\u001b[0m\n\u001b[1;32m   2955\u001b[0m        filtered_flat_args) = self._maybe_define_function(args, kwargs)\n\u001b[1;32m   2956\u001b[0m     return graph_function._call_flat(\n\u001b[0;32m-> 2957\u001b[0;31m         filtered_flat_args, captured_inputs=graph_function.captured_inputs)  # pylint: disable=protected-access\n\u001b[0m\u001b[1;32m   2958\u001b[0m \u001b[0;34m\u001b[0m\u001b[0m\n\u001b[1;32m   2959\u001b[0m   \u001b[0;34m@\u001b[0m\u001b[0mproperty\u001b[0m\u001b[0;34m\u001b[0m\u001b[0;34m\u001b[0m\u001b[0m\n",
      "\u001b[0;32m~/miniconda3/lib/python3.7/site-packages/tensorflow/python/eager/function.py\u001b[0m in \u001b[0;36m_call_flat\u001b[0;34m(self, args, captured_inputs, cancellation_manager)\u001b[0m\n\u001b[1;32m   1852\u001b[0m       \u001b[0;31m# No tape is watching; skip to running the function.\u001b[0m\u001b[0;34m\u001b[0m\u001b[0;34m\u001b[0m\u001b[0;34m\u001b[0m\u001b[0m\n\u001b[1;32m   1853\u001b[0m       return self._build_call_outputs(self._inference_function.call(\n\u001b[0;32m-> 1854\u001b[0;31m           ctx, args, cancellation_manager=cancellation_manager))\n\u001b[0m\u001b[1;32m   1855\u001b[0m     forward_backward = self._select_forward_and_backward_functions(\n\u001b[1;32m   1856\u001b[0m         \u001b[0margs\u001b[0m\u001b[0;34m,\u001b[0m\u001b[0;34m\u001b[0m\u001b[0;34m\u001b[0m\u001b[0m\n",
      "\u001b[0;32m~/miniconda3/lib/python3.7/site-packages/tensorflow/python/eager/function.py\u001b[0m in \u001b[0;36mcall\u001b[0;34m(self, ctx, args, cancellation_manager)\u001b[0m\n\u001b[1;32m    502\u001b[0m               \u001b[0minputs\u001b[0m\u001b[0;34m=\u001b[0m\u001b[0margs\u001b[0m\u001b[0;34m,\u001b[0m\u001b[0;34m\u001b[0m\u001b[0;34m\u001b[0m\u001b[0m\n\u001b[1;32m    503\u001b[0m               \u001b[0mattrs\u001b[0m\u001b[0;34m=\u001b[0m\u001b[0mattrs\u001b[0m\u001b[0;34m,\u001b[0m\u001b[0;34m\u001b[0m\u001b[0;34m\u001b[0m\u001b[0m\n\u001b[0;32m--> 504\u001b[0;31m               ctx=ctx)\n\u001b[0m\u001b[1;32m    505\u001b[0m         \u001b[0;32melse\u001b[0m\u001b[0;34m:\u001b[0m\u001b[0;34m\u001b[0m\u001b[0;34m\u001b[0m\u001b[0m\n\u001b[1;32m    506\u001b[0m           outputs = execute.execute_with_cancellation(\n",
      "\u001b[0;32m~/miniconda3/lib/python3.7/site-packages/tensorflow/python/eager/execute.py\u001b[0m in \u001b[0;36mquick_execute\u001b[0;34m(op_name, num_outputs, inputs, attrs, ctx, name)\u001b[0m\n\u001b[1;32m     53\u001b[0m     \u001b[0mctx\u001b[0m\u001b[0;34m.\u001b[0m\u001b[0mensure_initialized\u001b[0m\u001b[0;34m(\u001b[0m\u001b[0;34m)\u001b[0m\u001b[0;34m\u001b[0m\u001b[0;34m\u001b[0m\u001b[0m\n\u001b[1;32m     54\u001b[0m     tensors = pywrap_tfe.TFE_Py_Execute(ctx._handle, device_name, op_name,\n\u001b[0;32m---> 55\u001b[0;31m                                         inputs, attrs, num_outputs)\n\u001b[0m\u001b[1;32m     56\u001b[0m   \u001b[0;32mexcept\u001b[0m \u001b[0mcore\u001b[0m\u001b[0;34m.\u001b[0m\u001b[0m_NotOkStatusException\u001b[0m \u001b[0;32mas\u001b[0m \u001b[0me\u001b[0m\u001b[0;34m:\u001b[0m\u001b[0;34m\u001b[0m\u001b[0;34m\u001b[0m\u001b[0m\n\u001b[1;32m     57\u001b[0m     \u001b[0;32mif\u001b[0m \u001b[0mname\u001b[0m \u001b[0;32mis\u001b[0m \u001b[0;32mnot\u001b[0m \u001b[0;32mNone\u001b[0m\u001b[0;34m:\u001b[0m\u001b[0;34m\u001b[0m\u001b[0;34m\u001b[0m\u001b[0m\n",
      "\u001b[0;31mKeyboardInterrupt\u001b[0m: "
     ]
    }
   ],
   "source": [
    "import tensorflow as tf\n",
    "import os\n",
    "from datetime import datetime\n",
    "\n",
    "optimizer = tf.keras.optimizers.Adam(LEARNING_RATE)\n",
    "\n",
    "model.compile(optimizer=optimizer, loss='mse', \n",
    "            metrics=[tf.keras.metrics.MeanAbsoluteError()])\n",
    "\n",
    "\n",
    "early_stopping_callback = tf.keras.callbacks.EarlyStopping(monitor='val_loss', patience=10, restore_best_weights=True, min_delta=0.0001)\n",
    "reduce_lr_callback = tf.keras.callbacks.ReduceLROnPlateau(monitor='val_loss', patience=5, factor=0.3, min_lr=1e-6, min_delta=0.005)\n",
    "\n",
    "logdir = os.path.join(f\"{MODEL_NAME}_logs\", datetime.now().strftime(\"%Y%m%d-%H%M%S\"))\n",
    "checkpoint_callback = tf.keras.callbacks.ModelCheckpoint(filepath=f'{MODEL_NAME}.tf', \n",
    "                                                         save_format=\"tf\",\n",
    "                                                         monitor='val_loss', save_best_only=True)\n",
    "\n",
    "model.fit(train_dataset,\n",
    "     validation_data=test_dataset,\n",
    "     epochs=25,\n",
    "     callbacks=[early_stopping_callback, checkpoint_callback, reduce_lr_callback]\n",
    ")"
   ]
  },
  {
   "cell_type": "code",
   "execution_count": 13,
   "id": "bb0bf5e5-6fb2-492a-be92-e04c23350e25",
   "metadata": {},
   "outputs": [
    {
     "name": "stdout",
     "output_type": "stream",
     "text": [
      "60/60 [==============================] - 6s 77ms/step - loss: 0.0059 - mean_absolute_error: 0.0464\n"
     ]
    },
    {
     "data": {
      "text/plain": [
       "[0.005875778384506702, 0.046353068202733994]"
      ]
     },
     "execution_count": 13,
     "metadata": {},
     "output_type": "execute_result"
    }
   ],
   "source": [
    "model.evaluate(test_dataset)"
   ]
  },
  {
   "cell_type": "code",
   "execution_count": 14,
   "id": "b0451254-0281-480b-8c27-00a70e457041",
   "metadata": {},
   "outputs": [],
   "source": [
    "import pickle\n",
    "\n",
    "with open('denoise_testset_noisy.pkl', 'rb') as f:\n",
    "    eval_data = pickle.load(f)"
   ]
  },
  {
   "cell_type": "code",
   "execution_count": 21,
   "id": "415f570d-5362-47a5-a9b0-16f711fc2364",
   "metadata": {},
   "outputs": [],
   "source": [
    "eval_data_pred = model.predict(eval_data).squeeze(-1)"
   ]
  },
  {
   "cell_type": "code",
   "execution_count": 23,
   "id": "9cad4502-5ad4-4ef1-82c7-106063371509",
   "metadata": {},
   "outputs": [
    {
     "data": {
      "text/plain": [
       "array([ 0.05264 , -0.03084 ,  0.2323  , ..., -0.0169  , -0.03595 ,\n",
       "       -0.005646], dtype=float16)"
      ]
     },
     "execution_count": 23,
     "metadata": {},
     "output_type": "execute_result"
    }
   ],
   "source": [
    "eval_data_pred[0]"
   ]
  },
  {
   "cell_type": "code",
   "execution_count": 26,
   "id": "869b2697-e479-4746-abdf-50410276d7ae",
   "metadata": {},
   "outputs": [
    {
     "ename": "TypeError",
     "evalue": "sequence item 0: expected str instance, float found",
     "output_type": "error",
     "traceback": [
      "\u001b[0;31m---------------------------------------------------------------------------\u001b[0m",
      "\u001b[0;31mTypeError\u001b[0m                                 Traceback (most recent call last)",
      "\u001b[0;32m/tmp/ipykernel_2118/3628094816.py\u001b[0m in \u001b[0;36m<module>\u001b[0;34m\u001b[0m\n\u001b[0;32m----> 1\u001b[0;31m \u001b[0;34m\";\"\u001b[0m\u001b[0;34m.\u001b[0m\u001b[0mjoin\u001b[0m\u001b[0;34m(\u001b[0m\u001b[0meval_data_pred\u001b[0m\u001b[0;34m.\u001b[0m\u001b[0mtolist\u001b[0m\u001b[0;34m(\u001b[0m\u001b[0;34m)\u001b[0m\u001b[0;34m[\u001b[0m\u001b[0;36m0\u001b[0m\u001b[0;34m]\u001b[0m\u001b[0;34m)\u001b[0m\u001b[0;34m\u001b[0m\u001b[0;34m\u001b[0m\u001b[0m\n\u001b[0m",
      "\u001b[0;31mTypeError\u001b[0m: sequence item 0: expected str instance, float found"
     ]
    }
   ],
   "source": [
    "\";\".join(eval_data_pred.tolist()[0])"
   ]
  },
  {
   "cell_type": "code",
   "execution_count": 39,
   "id": "64d86a3d-e866-4aa6-a5c5-f0cd7229c625",
   "metadata": {},
   "outputs": [],
   "source": [
    "def format_predictions(preds):\n",
    "    return \"\\n\".join([ \";\".join([ str(number) for number in p ]) for p in preds.tolist()])"
   ]
  },
  {
   "cell_type": "code",
   "execution_count": 43,
   "id": "1f740919-2666-464f-9129-158df95a7d3d",
   "metadata": {},
   "outputs": [],
   "source": [
    "with open(\"answer.txt\", \"w+\") as f:\n",
    "    f.write(format_predictions(eval_data_pred))"
   ]
  },
  {
   "cell_type": "code",
   "execution_count": 90,
   "id": "7f448147-8412-4d1b-9895-3b9138222c2c",
   "metadata": {},
   "outputs": [
    {
     "name": "stderr",
     "output_type": "stream",
     "text": [
      "/root/miniconda3/lib/python3.7/site-packages/ipykernel_launcher.py:5: RuntimeWarning: divide by zero encountered in true_divide\n",
      "  \"\"\"\n",
      "/root/miniconda3/lib/python3.7/site-packages/numpy/core/_methods.py:179: RuntimeWarning: invalid value encountered in reduce\n",
      "  ret = umr_sum(arr, axis, dtype, out, keepdims, where=where)\n"
     ]
    },
    {
     "data": {
      "text/plain": [
       "nan"
      ]
     },
     "execution_count": 91,
     "metadata": {},
     "output_type": "execute_result"
    }
   ],
   "source": [
    "def signalPower(x):\n",
    "    return np.mean(x**2)\n",
    "\n",
    "def SNRsystem(inputSig, outputSig):\n",
    "    return 20 * np.log(inputSig / outputSig)\n",
    "\n",
    "SNRsystem(test_dataset_originals, test_dataset_pred)"
   ]
  },
  {
   "cell_type": "code",
   "execution_count": 53,
   "id": "47081e4c-916a-4cf6-b6c0-20dbb0b68634",
   "metadata": {},
   "outputs": [],
   "source": [
    "test_dataset_pred = model.predict(test_dataset).squeeze(-1)\n",
    "test_dataset_originals = np.array(list(test_dataset.map(lambda x, y: y).unbatch().as_numpy_iterator()))"
   ]
  },
  {
   "cell_type": "code",
   "execution_count": 79,
   "id": "6342698b-62f2-4182-96af-5599be84dda4",
   "metadata": {},
   "outputs": [
    {
     "data": {
      "text/plain": [
       "-0.012789079042441235"
      ]
     },
     "execution_count": 79,
     "metadata": {},
     "output_type": "execute_result"
    }
   ],
   "source": []
  },
  {
   "cell_type": "code",
   "execution_count": 55,
   "id": "410e4e63-8b68-4423-b410-6ff58083c038",
   "metadata": {},
   "outputs": [
    {
     "data": {
      "text/plain": [
       "(9600, 11000)"
      ]
     },
     "execution_count": 55,
     "metadata": {},
     "output_type": "execute_result"
    }
   ],
   "source": [
    "originals.shape"
   ]
  },
  {
   "cell_type": "code",
   "execution_count": 72,
   "id": "d81bb904-9aa4-4f9f-abba-2aa93d3fcbef",
   "metadata": {},
   "outputs": [],
   "source": []
  },
  {
   "cell_type": "code",
   "execution_count": 74,
   "id": "5fe21f9f-3efe-479b-8c4e-c056f195f594",
   "metadata": {},
   "outputs": [
    {
     "data": {
      "text/plain": [
       "(1920, 11000)"
      ]
     },
     "execution_count": 74,
     "metadata": {},
     "output_type": "execute_result"
    }
   ],
   "source": [
    "test_dataset_originals.shape"
   ]
  },
  {
   "cell_type": "code",
   "execution_count": null,
   "id": "0bb91a46-6a67-49df-98f4-3ee4f3b0f33a",
   "metadata": {},
   "outputs": [],
   "source": []
  }
 ],
 "metadata": {
  "kernelspec": {
   "display_name": "conda_base",
   "language": "python",
   "name": "conda_base"
  },
  "language_info": {
   "codemirror_mode": {
    "name": "ipython",
    "version": 3
   },
   "file_extension": ".py",
   "mimetype": "text/x-python",
   "name": "python",
   "nbconvert_exporter": "python",
   "pygments_lexer": "ipython3",
   "version": "3.7.12"
  }
 },
 "nbformat": 4,
 "nbformat_minor": 5
}
